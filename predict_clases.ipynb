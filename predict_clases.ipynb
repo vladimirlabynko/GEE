{
 "cells": [
  {
   "cell_type": "code",
   "execution_count": 1,
   "id": "f1a3f6c4",
   "metadata": {},
   "outputs": [],
   "source": [
    "from sklearn.ensemble import RandomForestClassifier\n",
    "from sklearn.tree import DecisionTreeClassifier\n",
    "import pandas as pd \n",
    "import numpy as np \n",
    "import seaborn as sns\n",
    "import matplotlib.pyplot as plt\n",
    "from IPython.display import display\n",
    "\n",
    "from sklearn.model_selection import GridSearchCV\n",
    "from sklearn.model_selection import train_test_split\n",
    "from sklearn.metrics import confusion_matrix, precision_score, recall_score, roc_auc_score,roc_curve,accuracy_score,make_scorer,auc"
   ]
  },
  {
   "cell_type": "code",
   "execution_count": 2,
   "id": "8662b14d",
   "metadata": {},
   "outputs": [],
   "source": [
    "def fit_classifier(model, X, y, parameters=None, scorer_metrics=None):\n",
    "\n",
    "    grid_obj = GridSearchCV(estimator=model, param_grid=parameters,\n",
    "                            scoring=make_scorer(scorer_metrics), cv=5)\n",
    "\n",
    "    grid_fit = grid_obj.fit(X, y)\n",
    "\n",
    "    model_estimator = grid_fit.best_estimator_\n",
    "\n",
    "    model_estimator.fit(X, y)\n",
    "    y_pred = model_estimator.predict(X)\n",
    "\n",
    "    print(\"\\n\")\n",
    "    print(\"\\nModel performance on training set\\n------------------------\")\n",
    "    print(\"Final accuracy score on the training data: {:.4f}\".format(\n",
    "        accuracy_score(y, y_pred)))\n",
    "    print(\"Final precision score on training data: {:.4f}\".format(\n",
    "        precision_score(y, y_pred)))\n",
    "    print(\"Final Recall score on training data: {:.4f}\".format(\n",
    "        recall_score(y, y_pred)))\n",
    "    print(\"Final ROC AUC score on training data: {:.4f}\".format(\n",
    "        roc_auc_score(y, y_pred)))\n",
    "    print(\"\\n\")\n",
    "    print(\"The best parameters are: {}\".format(model_estimator))\n",
    "\n",
    "    return model_estimator"
   ]
  },
  {
   "cell_type": "code",
   "execution_count": 3,
   "id": "e7fd83de",
   "metadata": {},
   "outputs": [],
   "source": [
    "# создаём функцию для построения графика ROC-AUC \n",
    "def roc_auc_plot(model, X, y, label=None):\n",
    "\n",
    "    y_score = model.predict_proba(X)[:, 1]\n",
    "\n",
    "    roc = roc_curve(y, y_score)\n",
    "\n",
    "    plt.plot(roc[0], roc[1], label=label)\n",
    "    plt.plot([0, 1], [0, 1], 'k--')\n",
    "    plt.axis([0, 1, 0, 1])\n",
    "    plt.xlabel('FPR')\n",
    "    plt.ylabel('TPR')\n",
    "\n",
    "    roc_score = auc(roc[0], roc[1])\n",
    "    print('AUC score of %s is %.4f.' % (label, roc_score))"
   ]
  },
  {
   "cell_type": "code",
   "execution_count": 4,
   "id": "72f149ec",
   "metadata": {},
   "outputs": [],
   "source": [
    "def plot_roc_curve(y, pred):\n",
    "    roc_score = roc_auc_score(y, pred)\n",
    "\n",
    "    fpr, tpr, threshold = roc_curve(y, pred)\n",
    "\n",
    "    plt.figure(figsize=(6, 5))\n",
    "    lw = 2\n",
    "    plt.title('ROC-AUC Curve, %2.1f%%' % (100*roc_score), fontsize=14)\n",
    "    plt.plot(fpr, tpr, color='darkorange', lw=lw)\n",
    "    plt.plot([0, 1], [0, 1], color='navy', lw=lw, linestyle='--')\n",
    "    plt.xlim([0.0, 1.0])\n",
    "    plt.ylim([0.0, 1.0])\n",
    "    plt.xticks(fontsize=14)\n",
    "    plt.yticks(fontsize=14)\n",
    "    plt.xlabel('False Positive Rate', fontsize=14)\n",
    "    plt.ylabel('True Positive Rate', fontsize=14)\n",
    "    plt.savefig(\"roc_auc_final.png\")\n",
    "    plt.show()"
   ]
  },
  {
   "cell_type": "code",
   "execution_count": 5,
   "id": "4ae1a4f3",
   "metadata": {},
   "outputs": [],
   "source": [
    "df_2018 = pd.read_csv('./samples/y2018.csv')\n",
    "df_2019 = pd.read_csv('./samples/y2019.csv')\n",
    "df_2020 = pd.read_csv('./samples/y2020.csv')\n",
    "df_2021 = pd.read_csv('./samples/y2021.csv')\n",
    "df_2022 = pd.read_csv('./samples/y2022.csv')"
   ]
  },
  {
   "cell_type": "code",
   "execution_count": 6,
   "id": "c0414b8a",
   "metadata": {},
   "outputs": [
    {
     "data": {
      "text/html": [
       "<div>\n",
       "<style scoped>\n",
       "    .dataframe tbody tr th:only-of-type {\n",
       "        vertical-align: middle;\n",
       "    }\n",
       "\n",
       "    .dataframe tbody tr th {\n",
       "        vertical-align: top;\n",
       "    }\n",
       "\n",
       "    .dataframe thead th {\n",
       "        text-align: right;\n",
       "    }\n",
       "</style>\n",
       "<table border=\"1\" class=\"dataframe\">\n",
       "  <thead>\n",
       "    <tr style=\"text-align: right;\">\n",
       "      <th></th>\n",
       "      <th>system:index</th>\n",
       "      <th>m_10</th>\n",
       "      <th>m_11</th>\n",
       "      <th>m_4</th>\n",
       "      <th>m_5</th>\n",
       "      <th>m_6</th>\n",
       "      <th>m_7</th>\n",
       "      <th>m_8</th>\n",
       "      <th>m_9</th>\n",
       "      <th>name</th>\n",
       "      <th>state</th>\n",
       "      <th>year</th>\n",
       "      <th>.geo</th>\n",
       "    </tr>\n",
       "  </thead>\n",
       "  <tbody>\n",
       "    <tr>\n",
       "      <th>0</th>\n",
       "      <td>2_0_0</td>\n",
       "      <td>0.771702</td>\n",
       "      <td>0.256970</td>\n",
       "      <td>0.589903</td>\n",
       "      <td>0.798264</td>\n",
       "      <td>0.826473</td>\n",
       "      <td>0.489460</td>\n",
       "      <td>0.842676</td>\n",
       "      <td>0.785188</td>\n",
       "      <td>161_2019</td>\n",
       "      <td>1</td>\n",
       "      <td>y2018</td>\n",
       "      <td>{\"geodesic\":false,\"type\":\"Point\",\"coordinates\"...</td>\n",
       "    </tr>\n",
       "    <tr>\n",
       "      <th>1</th>\n",
       "      <td>2_1_0</td>\n",
       "      <td>0.555886</td>\n",
       "      <td>0.095696</td>\n",
       "      <td>0.228813</td>\n",
       "      <td>0.646295</td>\n",
       "      <td>0.833649</td>\n",
       "      <td>0.734022</td>\n",
       "      <td>0.794393</td>\n",
       "      <td>0.665546</td>\n",
       "      <td>43E_2019</td>\n",
       "      <td>1</td>\n",
       "      <td>y2018</td>\n",
       "      <td>{\"geodesic\":false,\"type\":\"Point\",\"coordinates\"...</td>\n",
       "    </tr>\n",
       "    <tr>\n",
       "      <th>2</th>\n",
       "      <td>2_2_0</td>\n",
       "      <td>0.184525</td>\n",
       "      <td>0.018129</td>\n",
       "      <td>0.263804</td>\n",
       "      <td>0.809224</td>\n",
       "      <td>0.830125</td>\n",
       "      <td>0.644455</td>\n",
       "      <td>0.776864</td>\n",
       "      <td>0.785586</td>\n",
       "      <td>313_2020</td>\n",
       "      <td>0</td>\n",
       "      <td>y2018</td>\n",
       "      <td>{\"geodesic\":false,\"type\":\"Point\",\"coordinates\"...</td>\n",
       "    </tr>\n",
       "    <tr>\n",
       "      <th>3</th>\n",
       "      <td>2_3_0</td>\n",
       "      <td>0.594700</td>\n",
       "      <td>0.369903</td>\n",
       "      <td>0.387250</td>\n",
       "      <td>0.841079</td>\n",
       "      <td>0.897446</td>\n",
       "      <td>0.865163</td>\n",
       "      <td>0.878579</td>\n",
       "      <td>0.802358</td>\n",
       "      <td>134_2019</td>\n",
       "      <td>1</td>\n",
       "      <td>y2018</td>\n",
       "      <td>{\"geodesic\":false,\"type\":\"Point\",\"coordinates\"...</td>\n",
       "    </tr>\n",
       "    <tr>\n",
       "      <th>4</th>\n",
       "      <td>2_4_0</td>\n",
       "      <td>0.612999</td>\n",
       "      <td>0.181587</td>\n",
       "      <td>0.400805</td>\n",
       "      <td>0.825996</td>\n",
       "      <td>0.845218</td>\n",
       "      <td>0.597657</td>\n",
       "      <td>0.876725</td>\n",
       "      <td>0.100219</td>\n",
       "      <td>77E_2019</td>\n",
       "      <td>1</td>\n",
       "      <td>y2018</td>\n",
       "      <td>{\"geodesic\":false,\"type\":\"Point\",\"coordinates\"...</td>\n",
       "    </tr>\n",
       "  </tbody>\n",
       "</table>\n",
       "</div>"
      ],
      "text/plain": [
       "  system:index      m_10      m_11       m_4       m_5       m_6       m_7  \\\n",
       "0        2_0_0  0.771702  0.256970  0.589903  0.798264  0.826473  0.489460   \n",
       "1        2_1_0  0.555886  0.095696  0.228813  0.646295  0.833649  0.734022   \n",
       "2        2_2_0  0.184525  0.018129  0.263804  0.809224  0.830125  0.644455   \n",
       "3        2_3_0  0.594700  0.369903  0.387250  0.841079  0.897446  0.865163   \n",
       "4        2_4_0  0.612999  0.181587  0.400805  0.825996  0.845218  0.597657   \n",
       "\n",
       "        m_8       m_9      name  state   year  \\\n",
       "0  0.842676  0.785188  161_2019      1  y2018   \n",
       "1  0.794393  0.665546  43E_2019      1  y2018   \n",
       "2  0.776864  0.785586  313_2020      0  y2018   \n",
       "3  0.878579  0.802358  134_2019      1  y2018   \n",
       "4  0.876725  0.100219  77E_2019      1  y2018   \n",
       "\n",
       "                                                .geo  \n",
       "0  {\"geodesic\":false,\"type\":\"Point\",\"coordinates\"...  \n",
       "1  {\"geodesic\":false,\"type\":\"Point\",\"coordinates\"...  \n",
       "2  {\"geodesic\":false,\"type\":\"Point\",\"coordinates\"...  \n",
       "3  {\"geodesic\":false,\"type\":\"Point\",\"coordinates\"...  \n",
       "4  {\"geodesic\":false,\"type\":\"Point\",\"coordinates\"...  "
      ]
     },
     "execution_count": 6,
     "metadata": {},
     "output_type": "execute_result"
    }
   ],
   "source": [
    "df_2018.head()"
   ]
  },
  {
   "cell_type": "code",
   "execution_count": 7,
   "id": "6f645dd1",
   "metadata": {},
   "outputs": [],
   "source": [
    "def prepare_df(data):\n",
    "    df = data.copy()\n",
    "    del df['system:index']\n",
    "    del df['name']\n",
    "    del df['year']\n",
    "    del df['.geo']\n",
    "    return df"
   ]
  },
  {
   "cell_type": "code",
   "execution_count": 8,
   "id": "f8c9df08",
   "metadata": {},
   "outputs": [],
   "source": [
    "df_2018=prepare_df(df_2018)\n",
    "df_2019=prepare_df(df_2019)\n",
    "df_2020=prepare_df(df_2020)\n",
    "df_2021=prepare_df(df_2021)\n",
    "df_2022=prepare_df(df_2022)"
   ]
  },
  {
   "cell_type": "code",
   "execution_count": 9,
   "id": "c8c2753d",
   "metadata": {},
   "outputs": [
    {
     "data": {
      "text/html": [
       "<div>\n",
       "<style scoped>\n",
       "    .dataframe tbody tr th:only-of-type {\n",
       "        vertical-align: middle;\n",
       "    }\n",
       "\n",
       "    .dataframe tbody tr th {\n",
       "        vertical-align: top;\n",
       "    }\n",
       "\n",
       "    .dataframe thead th {\n",
       "        text-align: right;\n",
       "    }\n",
       "</style>\n",
       "<table border=\"1\" class=\"dataframe\">\n",
       "  <thead>\n",
       "    <tr style=\"text-align: right;\">\n",
       "      <th></th>\n",
       "      <th>m_10</th>\n",
       "      <th>m_11</th>\n",
       "      <th>m_4</th>\n",
       "      <th>m_5</th>\n",
       "      <th>m_6</th>\n",
       "      <th>m_7</th>\n",
       "      <th>m_8</th>\n",
       "      <th>m_9</th>\n",
       "      <th>state</th>\n",
       "    </tr>\n",
       "  </thead>\n",
       "  <tbody>\n",
       "    <tr>\n",
       "      <th>0</th>\n",
       "      <td>0.771702</td>\n",
       "      <td>0.256970</td>\n",
       "      <td>0.589903</td>\n",
       "      <td>0.798264</td>\n",
       "      <td>0.826473</td>\n",
       "      <td>0.489460</td>\n",
       "      <td>0.842676</td>\n",
       "      <td>0.785188</td>\n",
       "      <td>1</td>\n",
       "    </tr>\n",
       "    <tr>\n",
       "      <th>1</th>\n",
       "      <td>0.555886</td>\n",
       "      <td>0.095696</td>\n",
       "      <td>0.228813</td>\n",
       "      <td>0.646295</td>\n",
       "      <td>0.833649</td>\n",
       "      <td>0.734022</td>\n",
       "      <td>0.794393</td>\n",
       "      <td>0.665546</td>\n",
       "      <td>1</td>\n",
       "    </tr>\n",
       "    <tr>\n",
       "      <th>2</th>\n",
       "      <td>0.184525</td>\n",
       "      <td>0.018129</td>\n",
       "      <td>0.263804</td>\n",
       "      <td>0.809224</td>\n",
       "      <td>0.830125</td>\n",
       "      <td>0.644455</td>\n",
       "      <td>0.776864</td>\n",
       "      <td>0.785586</td>\n",
       "      <td>0</td>\n",
       "    </tr>\n",
       "    <tr>\n",
       "      <th>3</th>\n",
       "      <td>0.594700</td>\n",
       "      <td>0.369903</td>\n",
       "      <td>0.387250</td>\n",
       "      <td>0.841079</td>\n",
       "      <td>0.897446</td>\n",
       "      <td>0.865163</td>\n",
       "      <td>0.878579</td>\n",
       "      <td>0.802358</td>\n",
       "      <td>1</td>\n",
       "    </tr>\n",
       "    <tr>\n",
       "      <th>4</th>\n",
       "      <td>0.612999</td>\n",
       "      <td>0.181587</td>\n",
       "      <td>0.400805</td>\n",
       "      <td>0.825996</td>\n",
       "      <td>0.845218</td>\n",
       "      <td>0.597657</td>\n",
       "      <td>0.876725</td>\n",
       "      <td>0.100219</td>\n",
       "      <td>1</td>\n",
       "    </tr>\n",
       "  </tbody>\n",
       "</table>\n",
       "</div>"
      ],
      "text/plain": [
       "       m_10      m_11       m_4       m_5       m_6       m_7       m_8  \\\n",
       "0  0.771702  0.256970  0.589903  0.798264  0.826473  0.489460  0.842676   \n",
       "1  0.555886  0.095696  0.228813  0.646295  0.833649  0.734022  0.794393   \n",
       "2  0.184525  0.018129  0.263804  0.809224  0.830125  0.644455  0.776864   \n",
       "3  0.594700  0.369903  0.387250  0.841079  0.897446  0.865163  0.878579   \n",
       "4  0.612999  0.181587  0.400805  0.825996  0.845218  0.597657  0.876725   \n",
       "\n",
       "        m_9  state  \n",
       "0  0.785188      1  \n",
       "1  0.665546      1  \n",
       "2  0.785586      0  \n",
       "3  0.802358      1  \n",
       "4  0.100219      1  "
      ]
     },
     "execution_count": 9,
     "metadata": {},
     "output_type": "execute_result"
    }
   ],
   "source": [
    "df_2018.head()"
   ]
  },
  {
   "cell_type": "code",
   "execution_count": 10,
   "id": "a841e5d4",
   "metadata": {},
   "outputs": [],
   "source": [
    "frames = [df_2018, df_2019, df_2020,df_2021,df_2022]\n",
    "result_df = pd.concat(frames)"
   ]
  },
  {
   "cell_type": "code",
   "execution_count": 11,
   "id": "d2df7bb9",
   "metadata": {},
   "outputs": [
    {
     "data": {
      "text/html": [
       "<div>\n",
       "<style scoped>\n",
       "    .dataframe tbody tr th:only-of-type {\n",
       "        vertical-align: middle;\n",
       "    }\n",
       "\n",
       "    .dataframe tbody tr th {\n",
       "        vertical-align: top;\n",
       "    }\n",
       "\n",
       "    .dataframe thead th {\n",
       "        text-align: right;\n",
       "    }\n",
       "</style>\n",
       "<table border=\"1\" class=\"dataframe\">\n",
       "  <thead>\n",
       "    <tr style=\"text-align: right;\">\n",
       "      <th></th>\n",
       "      <th>m_10</th>\n",
       "      <th>m_11</th>\n",
       "      <th>m_4</th>\n",
       "      <th>m_5</th>\n",
       "      <th>m_6</th>\n",
       "      <th>m_7</th>\n",
       "      <th>m_8</th>\n",
       "      <th>m_9</th>\n",
       "      <th>state</th>\n",
       "    </tr>\n",
       "  </thead>\n",
       "  <tbody>\n",
       "    <tr>\n",
       "      <th>count</th>\n",
       "      <td>5000.000000</td>\n",
       "      <td>5000.000000</td>\n",
       "      <td>5000.000000</td>\n",
       "      <td>5000.000000</td>\n",
       "      <td>5000.000000</td>\n",
       "      <td>5000.000000</td>\n",
       "      <td>5000.000000</td>\n",
       "      <td>5000.000000</td>\n",
       "      <td>5000.0000</td>\n",
       "    </tr>\n",
       "    <tr>\n",
       "      <th>mean</th>\n",
       "      <td>-0.993550</td>\n",
       "      <td>-4.289760</td>\n",
       "      <td>0.288312</td>\n",
       "      <td>0.577447</td>\n",
       "      <td>0.716622</td>\n",
       "      <td>0.412513</td>\n",
       "      <td>0.649406</td>\n",
       "      <td>0.567419</td>\n",
       "      <td>0.7302</td>\n",
       "    </tr>\n",
       "    <tr>\n",
       "      <th>std</th>\n",
       "      <td>11.971050</td>\n",
       "      <td>20.875641</td>\n",
       "      <td>0.129722</td>\n",
       "      <td>0.253050</td>\n",
       "      <td>0.214007</td>\n",
       "      <td>4.501124</td>\n",
       "      <td>0.186255</td>\n",
       "      <td>0.278829</td>\n",
       "      <td>0.4439</td>\n",
       "    </tr>\n",
       "    <tr>\n",
       "      <th>min</th>\n",
       "      <td>-100.000000</td>\n",
       "      <td>-100.000000</td>\n",
       "      <td>0.027547</td>\n",
       "      <td>0.014791</td>\n",
       "      <td>0.062605</td>\n",
       "      <td>-100.000000</td>\n",
       "      <td>0.109643</td>\n",
       "      <td>0.012163</td>\n",
       "      <td>0.0000</td>\n",
       "    </tr>\n",
       "    <tr>\n",
       "      <th>25%</th>\n",
       "      <td>0.213617</td>\n",
       "      <td>0.023413</td>\n",
       "      <td>0.224581</td>\n",
       "      <td>0.404069</td>\n",
       "      <td>0.639998</td>\n",
       "      <td>0.447294</td>\n",
       "      <td>0.512794</td>\n",
       "      <td>0.503917</td>\n",
       "      <td>0.0000</td>\n",
       "    </tr>\n",
       "    <tr>\n",
       "      <th>50%</th>\n",
       "      <td>0.534104</td>\n",
       "      <td>0.228649</td>\n",
       "      <td>0.291175</td>\n",
       "      <td>0.670420</td>\n",
       "      <td>0.813716</td>\n",
       "      <td>0.687461</td>\n",
       "      <td>0.701702</td>\n",
       "      <td>0.678640</td>\n",
       "      <td>1.0000</td>\n",
       "    </tr>\n",
       "    <tr>\n",
       "      <th>75%</th>\n",
       "      <td>0.635525</td>\n",
       "      <td>0.426083</td>\n",
       "      <td>0.377113</td>\n",
       "      <td>0.776165</td>\n",
       "      <td>0.861820</td>\n",
       "      <td>0.794964</td>\n",
       "      <td>0.801592</td>\n",
       "      <td>0.768782</td>\n",
       "      <td>1.0000</td>\n",
       "    </tr>\n",
       "    <tr>\n",
       "      <th>max</th>\n",
       "      <td>0.897895</td>\n",
       "      <td>0.784954</td>\n",
       "      <td>0.746556</td>\n",
       "      <td>0.922326</td>\n",
       "      <td>0.918665</td>\n",
       "      <td>0.936101</td>\n",
       "      <td>0.915713</td>\n",
       "      <td>0.888346</td>\n",
       "      <td>1.0000</td>\n",
       "    </tr>\n",
       "  </tbody>\n",
       "</table>\n",
       "</div>"
      ],
      "text/plain": [
       "              m_10         m_11          m_4          m_5          m_6  \\\n",
       "count  5000.000000  5000.000000  5000.000000  5000.000000  5000.000000   \n",
       "mean     -0.993550    -4.289760     0.288312     0.577447     0.716622   \n",
       "std      11.971050    20.875641     0.129722     0.253050     0.214007   \n",
       "min    -100.000000  -100.000000     0.027547     0.014791     0.062605   \n",
       "25%       0.213617     0.023413     0.224581     0.404069     0.639998   \n",
       "50%       0.534104     0.228649     0.291175     0.670420     0.813716   \n",
       "75%       0.635525     0.426083     0.377113     0.776165     0.861820   \n",
       "max       0.897895     0.784954     0.746556     0.922326     0.918665   \n",
       "\n",
       "               m_7          m_8          m_9      state  \n",
       "count  5000.000000  5000.000000  5000.000000  5000.0000  \n",
       "mean      0.412513     0.649406     0.567419     0.7302  \n",
       "std       4.501124     0.186255     0.278829     0.4439  \n",
       "min    -100.000000     0.109643     0.012163     0.0000  \n",
       "25%       0.447294     0.512794     0.503917     0.0000  \n",
       "50%       0.687461     0.701702     0.678640     1.0000  \n",
       "75%       0.794964     0.801592     0.768782     1.0000  \n",
       "max       0.936101     0.915713     0.888346     1.0000  "
      ]
     },
     "execution_count": 11,
     "metadata": {},
     "output_type": "execute_result"
    }
   ],
   "source": [
    "result_df.describe()"
   ]
  },
  {
   "cell_type": "code",
   "execution_count": 12,
   "id": "cb3d09c3",
   "metadata": {},
   "outputs": [
    {
     "data": {
      "text/plain": [
       "m_9  m_5    0.805674\n",
       "m_6  m_9    0.804447\n",
       "m_4  m_9    0.787768\n",
       "m_5  m_6    0.776499\n",
       "m_4  m_5    0.764479\n",
       "m_9  m_8    0.720281\n",
       "m_6  m_4    0.708387\n",
       "m_8  m_6    0.659721\n",
       "m_5  m_8    0.646570\n",
       "m_4  m_8    0.593233\n",
       "dtype: float64"
      ]
     },
     "execution_count": 12,
     "metadata": {},
     "output_type": "execute_result"
    }
   ],
   "source": [
    "corr = result_df.corr()\n",
    "c = corr.abs().unstack()\n",
    "c[c == 1] = 0\n",
    "c = c.sort_values(ascending=False).drop_duplicates()\n",
    "tmp = c.head(10)\n",
    "tmp.sort_values(ascending=True)\n",
    "tmp"
   ]
  },
  {
   "cell_type": "code",
   "execution_count": 13,
   "id": "39c466c9",
   "metadata": {},
   "outputs": [
    {
     "data": {
      "text/plain": [
       "1    3651\n",
       "0    1349\n",
       "Name: state, dtype: int64"
      ]
     },
     "execution_count": 13,
     "metadata": {},
     "output_type": "execute_result"
    }
   ],
   "source": [
    "# проверка на баланс классов - классы сбалансированы\n",
    "result_df[\"state\"].value_counts()"
   ]
  },
  {
   "cell_type": "code",
   "execution_count": 14,
   "id": "d161e51c",
   "metadata": {},
   "outputs": [
    {
     "name": "stdout",
     "output_type": "stream",
     "text": [
      "(1349, 9)\n",
      "(3651, 9)\n"
     ]
    }
   ],
   "source": [
    "unused = result_df[result_df[\"state\"] == 0]\n",
    "used = result_df[result_df[\"state\"] ==  1]\n",
    "print(unused.shape)\n",
    "print(used.shape)"
   ]
  },
  {
   "cell_type": "code",
   "execution_count": 15,
   "id": "7f04ce4b",
   "metadata": {},
   "outputs": [
    {
     "name": "stdout",
     "output_type": "stream",
     "text": [
      "(1349, 9)\n"
     ]
    }
   ],
   "source": [
    "from sklearn.utils import resample\n",
    "used_downsample = resample(used,\n",
    "             replace=True,\n",
    "             n_samples=len(unused),\n",
    "             random_state=42)\n",
    "\n",
    "print(used_downsample.shape)"
   ]
  },
  {
   "cell_type": "code",
   "execution_count": 16,
   "id": "9783cd40",
   "metadata": {},
   "outputs": [],
   "source": [
    "data_downsampled = pd.concat([used_downsample, unused])"
   ]
  },
  {
   "cell_type": "code",
   "execution_count": 17,
   "id": "786213fa",
   "metadata": {},
   "outputs": [
    {
     "name": "stdout",
     "output_type": "stream",
     "text": [
      "1    1349\n",
      "0    1349\n",
      "Name: state, dtype: int64\n"
     ]
    }
   ],
   "source": [
    "print(data_downsampled[\"state\"].value_counts())"
   ]
  },
  {
   "cell_type": "code",
   "execution_count": 18,
   "id": "2ec3b762",
   "metadata": {},
   "outputs": [],
   "source": [
    "# разделяем искомую переменную от всех данных\n",
    "X = data_downsampled.drop(columns=['state'])\n",
    "y = data_downsampled['state']"
   ]
  },
  {
   "cell_type": "code",
   "execution_count": 19,
   "id": "7568abf6",
   "metadata": {},
   "outputs": [],
   "source": [
    "X_train, X_test, y_train, y_test = train_test_split(\n",
    "    X, y, test_size=0.2, random_state=232)\n",
    "X_train, X_val, y_train, y_val = train_test_split(\n",
    "    X_train, y_train, test_size=0.25, random_state=232)"
   ]
  },
  {
   "cell_type": "code",
   "execution_count": null,
   "id": "02c7d861",
   "metadata": {},
   "outputs": [],
   "source": []
  },
  {
   "cell_type": "code",
   "execution_count": 20,
   "id": "f7e32eea",
   "metadata": {},
   "outputs": [
    {
     "name": "stdout",
     "output_type": "stream",
     "text": [
      "\n",
      "\n",
      "\n",
      "Model performance on training set\n",
      "------------------------\n",
      "Final accuracy score on the training data: 0.8288\n",
      "Final precision score on training data: 0.7857\n",
      "Final Recall score on training data: 0.9111\n",
      "Final ROC AUC score on training data: 0.8276\n",
      "\n",
      "\n",
      "The best parameters are: DecisionTreeClassifier(max_depth=5, min_samples_leaf=3, random_state=44)\n"
     ]
    }
   ],
   "source": [
    "# найдем и построим наилучшую модельмодель для DecisionTree\n",
    "parameters_DT = {'max_depth': [3, 5, 7],\n",
    "                 'min_samples_leaf': [2, 3, 4],\n",
    "                 'min_samples_split': [2, 3, 4]}\n",
    "\n",
    "model_DT = fit_classifier(DecisionTreeClassifier(random_state=44), X_train, y_train,\n",
    "                          parameters=parameters_DT, scorer_metrics=recall_score)"
   ]
  },
  {
   "cell_type": "code",
   "execution_count": 21,
   "id": "099067a0",
   "metadata": {},
   "outputs": [
    {
     "name": "stdout",
     "output_type": "stream",
     "text": [
      "\n",
      "\n",
      "\n",
      "Model performance on training set\n",
      "------------------------\n",
      "Final accuracy score on the training data: 0.9604\n",
      "Final precision score on training data: 0.9610\n",
      "Final Recall score on training data: 0.9610\n",
      "Final ROC AUC score on training data: 0.9604\n",
      "\n",
      "\n",
      "The best parameters are: RandomForestClassifier(max_depth=10, min_samples_leaf=2, random_state=18)\n"
     ]
    }
   ],
   "source": [
    "# найдем и построим наилучшую модель для random forest\n",
    "# Create the parameters list\n",
    "parameters_RF = {'max_depth': [2, 5, 7, 10], 'min_samples_leaf': [\n",
    "    2, 3, 5, 7, 10], 'min_samples_split': [2, 3, 5, 10]}\n",
    "\n",
    "model_RF = fit_classifier(RandomForestClassifier(random_state=18), X_train, y_train,\n",
    "                          parameters=parameters_RF, scorer_metrics=recall_score)"
   ]
  },
  {
   "cell_type": "code",
   "execution_count": 24,
   "id": "328fa36e",
   "metadata": {},
   "outputs": [
    {
     "name": "stdout",
     "output_type": "stream",
     "text": [
      "AUC score of Random Forest is 0.9630.\n",
      "AUC score of Decision Tree is 0.8848.\n"
     ]
    },
    {
     "data": {
      "image/png": "[encoded data removed]",
      "text/plain": [
       "<Figure size 640x480 with 1 Axes>"
      ]
     },
     "metadata": {},
     "output_type": "display_data"
    }
   ],
   "source": [
    "roc_auc_plot(model_RF, X_test, y_test, label='Random Forest')\n",
    "roc_auc_plot(model_DT, X_test, y_test, label='Decision Tree')\n",
    "plt.title('ROC Curves on Test Set')\n",
    "plt.legend(loc='lower right')\n",
    "plt.show()"
   ]
  },
  {
   "cell_type": "code",
   "execution_count": 23,
   "id": "b2207c63",
   "metadata": {},
   "outputs": [
    {
     "name": "stdout",
     "output_type": "stream",
     "text": [
      "AUC score of Random Forest is 0.9324.\n",
      "AUC score of Decision Tree is 0.8682.\n"
     ]
    },
    {
     "data": {
      "image/png": "[encoded data removed]",
      "text/plain": [
       "<Figure size 640x480 with 1 Axes>"
      ]
     },
     "metadata": {},
     "output_type": "display_data"
    }
   ],
   "source": [
    "roc_auc_plot(model_RF, X_val, y_val, label='Random Forest')\n",
    "roc_auc_plot(model_DT, X_val, y_val, label='Decision Tree')\n",
    "plt.title('ROC Curves on Valid Set')\n",
    "plt.legend(loc='lower right')\n",
    "plt.show()"
   ]
  },
  {
   "cell_type": "code",
   "execution_count": 25,
   "id": "7034b1f7",
   "metadata": {},
   "outputs": [
    {
     "name": "stdout",
     "output_type": "stream",
     "text": [
      "Threshold = 0.70\n",
      "Accuracy score: 88.7%\n",
      "Confusion matrix:\n"
     ]
    },
    {
     "data": {
      "text/html": [
       "<div>\n",
       "<style scoped>\n",
       "    .dataframe tbody tr th:only-of-type {\n",
       "        vertical-align: middle;\n",
       "    }\n",
       "\n",
       "    .dataframe tbody tr th {\n",
       "        vertical-align: top;\n",
       "    }\n",
       "\n",
       "    .dataframe thead th {\n",
       "        text-align: right;\n",
       "    }\n",
       "</style>\n",
       "<table border=\"1\" class=\"dataframe\">\n",
       "  <thead>\n",
       "    <tr style=\"text-align: right;\">\n",
       "      <th></th>\n",
       "      <th>pred 0</th>\n",
       "      <th>pred 1</th>\n",
       "    </tr>\n",
       "  </thead>\n",
       "  <tbody>\n",
       "    <tr>\n",
       "      <th>actual 0</th>\n",
       "      <td>1326</td>\n",
       "      <td>23</td>\n",
       "    </tr>\n",
       "    <tr>\n",
       "      <th>actual 1</th>\n",
       "      <td>283</td>\n",
       "      <td>1066</td>\n",
       "    </tr>\n",
       "  </tbody>\n",
       "</table>\n",
       "</div>"
      ],
      "text/plain": [
       "          pred 0  pred 1\n",
       "actual 0    1326      23\n",
       "actual 1     283    1066"
      ]
     },
     "metadata": {},
     "output_type": "display_data"
    }
   ],
   "source": [
    "def show_confusion_matrix(X, y, model, threshold=0.5):\n",
    "    pred = model.predict_proba(X)[:, 1]\n",
    "    pred = [1 if p >= threshold else 0 for p in pred]\n",
    "    cm = pd.DataFrame(confusion_matrix(y, pred),\n",
    "                      index=[\"actual 0\", \"actual 1\"], columns=[\"pred 0\", \"pred 1\"])\n",
    "    print(\"Threshold = %.2f\" % threshold)\n",
    "    print(\"Accuracy score: %.1f%%\" % (100 * accuracy_score(y, pred)))\n",
    "    print(\"Confusion matrix:\")\n",
    "    display(cm)\n",
    "\n",
    "\n",
    "show_confusion_matrix(X, y, model_RF, threshold=.7)"
   ]
  },
  {
   "cell_type": "code",
   "execution_count": 26,
   "id": "de0a883c",
   "metadata": {},
   "outputs": [
    {
     "data": {
      "text/html": [
       "<div>\n",
       "<style scoped>\n",
       "    .dataframe tbody tr th:only-of-type {\n",
       "        vertical-align: middle;\n",
       "    }\n",
       "\n",
       "    .dataframe tbody tr th {\n",
       "        vertical-align: top;\n",
       "    }\n",
       "\n",
       "    .dataframe thead th {\n",
       "        text-align: right;\n",
       "    }\n",
       "</style>\n",
       "<table border=\"1\" class=\"dataframe\">\n",
       "  <thead>\n",
       "    <tr style=\"text-align: right;\">\n",
       "      <th></th>\n",
       "      <th>system:index</th>\n",
       "      <th>m_10</th>\n",
       "      <th>m_11</th>\n",
       "      <th>m_4</th>\n",
       "      <th>m_5</th>\n",
       "      <th>m_6</th>\n",
       "      <th>m_7</th>\n",
       "      <th>m_8</th>\n",
       "      <th>m_9</th>\n",
       "      <th>name</th>\n",
       "      <th>state</th>\n",
       "      <th>year</th>\n",
       "      <th>.geo</th>\n",
       "    </tr>\n",
       "  </thead>\n",
       "  <tbody>\n",
       "    <tr>\n",
       "      <th>0</th>\n",
       "      <td>2_0_0</td>\n",
       "      <td>0.389966</td>\n",
       "      <td>0.111933</td>\n",
       "      <td>0.455665</td>\n",
       "      <td>0.813514</td>\n",
       "      <td>0.846371</td>\n",
       "      <td>0.841692</td>\n",
       "      <td>0.778846</td>\n",
       "      <td>0.710468</td>\n",
       "      <td>26_2020</td>\n",
       "      <td>1</td>\n",
       "      <td>y2019</td>\n",
       "      <td>{\"geodesic\":false,\"type\":\"Point\",\"coordinates\"...</td>\n",
       "    </tr>\n",
       "    <tr>\n",
       "      <th>1</th>\n",
       "      <td>2_1_0</td>\n",
       "      <td>0.686797</td>\n",
       "      <td>-0.009949</td>\n",
       "      <td>0.189241</td>\n",
       "      <td>0.372506</td>\n",
       "      <td>0.419155</td>\n",
       "      <td>0.665970</td>\n",
       "      <td>0.682539</td>\n",
       "      <td>0.709550</td>\n",
       "      <td>284_2020</td>\n",
       "      <td>0</td>\n",
       "      <td>y2019</td>\n",
       "      <td>{\"geodesic\":false,\"type\":\"Point\",\"coordinates\"...</td>\n",
       "    </tr>\n",
       "    <tr>\n",
       "      <th>2</th>\n",
       "      <td>2_2_0</td>\n",
       "      <td>0.538462</td>\n",
       "      <td>0.574201</td>\n",
       "      <td>0.183650</td>\n",
       "      <td>0.313747</td>\n",
       "      <td>0.671279</td>\n",
       "      <td>0.738791</td>\n",
       "      <td>0.714177</td>\n",
       "      <td>0.587363</td>\n",
       "      <td>39k_2019</td>\n",
       "      <td>0</td>\n",
       "      <td>y2019</td>\n",
       "      <td>{\"geodesic\":false,\"type\":\"Point\",\"coordinates\"...</td>\n",
       "    </tr>\n",
       "    <tr>\n",
       "      <th>3</th>\n",
       "      <td>2_3_0</td>\n",
       "      <td>0.573306</td>\n",
       "      <td>0.299102</td>\n",
       "      <td>0.291387</td>\n",
       "      <td>0.479468</td>\n",
       "      <td>0.860298</td>\n",
       "      <td>0.528121</td>\n",
       "      <td>0.637177</td>\n",
       "      <td>0.628159</td>\n",
       "      <td>124_2019</td>\n",
       "      <td>1</td>\n",
       "      <td>y2019</td>\n",
       "      <td>{\"geodesic\":false,\"type\":\"Point\",\"coordinates\"...</td>\n",
       "    </tr>\n",
       "    <tr>\n",
       "      <th>4</th>\n",
       "      <td>2_4_0</td>\n",
       "      <td>0.588354</td>\n",
       "      <td>0.558747</td>\n",
       "      <td>0.360682</td>\n",
       "      <td>0.449735</td>\n",
       "      <td>0.757956</td>\n",
       "      <td>0.763657</td>\n",
       "      <td>0.731141</td>\n",
       "      <td>0.537086</td>\n",
       "      <td>53_2020</td>\n",
       "      <td>1</td>\n",
       "      <td>y2019</td>\n",
       "      <td>{\"geodesic\":false,\"type\":\"Point\",\"coordinates\"...</td>\n",
       "    </tr>\n",
       "  </tbody>\n",
       "</table>\n",
       "</div>"
      ],
      "text/plain": [
       "  system:index      m_10      m_11       m_4       m_5       m_6       m_7  \\\n",
       "0        2_0_0  0.389966  0.111933  0.455665  0.813514  0.846371  0.841692   \n",
       "1        2_1_0  0.686797 -0.009949  0.189241  0.372506  0.419155  0.665970   \n",
       "2        2_2_0  0.538462  0.574201  0.183650  0.313747  0.671279  0.738791   \n",
       "3        2_3_0  0.573306  0.299102  0.291387  0.479468  0.860298  0.528121   \n",
       "4        2_4_0  0.588354  0.558747  0.360682  0.449735  0.757956  0.763657   \n",
       "\n",
       "        m_8       m_9      name  state   year  \\\n",
       "0  0.778846  0.710468   26_2020      1  y2019   \n",
       "1  0.682539  0.709550  284_2020      0  y2019   \n",
       "2  0.714177  0.587363  39k_2019      0  y2019   \n",
       "3  0.637177  0.628159  124_2019      1  y2019   \n",
       "4  0.731141  0.537086   53_2020      1  y2019   \n",
       "\n",
       "                                                .geo  \n",
       "0  {\"geodesic\":false,\"type\":\"Point\",\"coordinates\"...  \n",
       "1  {\"geodesic\":false,\"type\":\"Point\",\"coordinates\"...  \n",
       "2  {\"geodesic\":false,\"type\":\"Point\",\"coordinates\"...  \n",
       "3  {\"geodesic\":false,\"type\":\"Point\",\"coordinates\"...  \n",
       "4  {\"geodesic\":false,\"type\":\"Point\",\"coordinates\"...  "
      ]
     },
     "execution_count": 26,
     "metadata": {},
     "output_type": "execute_result"
    }
   ],
   "source": [
    "valid_df = pd.read_csv('./samples/y2019.csv')\n",
    "valid_df.head()"
   ]
  },
  {
   "cell_type": "code",
   "execution_count": 27,
   "id": "166874a8",
   "metadata": {},
   "outputs": [],
   "source": [
    "valid_df=prepare_df(valid_df)"
   ]
  },
  {
   "cell_type": "code",
   "execution_count": 28,
   "id": "6ffefae5",
   "metadata": {},
   "outputs": [],
   "source": [
    "X_final = valid_df.drop(columns=['state'])"
   ]
  },
  {
   "cell_type": "code",
   "execution_count": 29,
   "id": "28fb88cf",
   "metadata": {},
   "outputs": [
    {
     "data": {
      "text/html": [
       "<div>\n",
       "<style scoped>\n",
       "    .dataframe tbody tr th:only-of-type {\n",
       "        vertical-align: middle;\n",
       "    }\n",
       "\n",
       "    .dataframe tbody tr th {\n",
       "        vertical-align: top;\n",
       "    }\n",
       "\n",
       "    .dataframe thead th {\n",
       "        text-align: right;\n",
       "    }\n",
       "</style>\n",
       "<table border=\"1\" class=\"dataframe\">\n",
       "  <thead>\n",
       "    <tr style=\"text-align: right;\">\n",
       "      <th></th>\n",
       "      <th>m_10</th>\n",
       "      <th>m_11</th>\n",
       "      <th>m_4</th>\n",
       "      <th>m_5</th>\n",
       "      <th>m_6</th>\n",
       "      <th>m_7</th>\n",
       "      <th>m_8</th>\n",
       "      <th>m_9</th>\n",
       "    </tr>\n",
       "  </thead>\n",
       "  <tbody>\n",
       "    <tr>\n",
       "      <th>0</th>\n",
       "      <td>0.389966</td>\n",
       "      <td>0.111933</td>\n",
       "      <td>0.455665</td>\n",
       "      <td>0.813514</td>\n",
       "      <td>0.846371</td>\n",
       "      <td>0.841692</td>\n",
       "      <td>0.778846</td>\n",
       "      <td>0.710468</td>\n",
       "    </tr>\n",
       "    <tr>\n",
       "      <th>1</th>\n",
       "      <td>0.686797</td>\n",
       "      <td>-0.009949</td>\n",
       "      <td>0.189241</td>\n",
       "      <td>0.372506</td>\n",
       "      <td>0.419155</td>\n",
       "      <td>0.665970</td>\n",
       "      <td>0.682539</td>\n",
       "      <td>0.709550</td>\n",
       "    </tr>\n",
       "    <tr>\n",
       "      <th>2</th>\n",
       "      <td>0.538462</td>\n",
       "      <td>0.574201</td>\n",
       "      <td>0.183650</td>\n",
       "      <td>0.313747</td>\n",
       "      <td>0.671279</td>\n",
       "      <td>0.738791</td>\n",
       "      <td>0.714177</td>\n",
       "      <td>0.587363</td>\n",
       "    </tr>\n",
       "    <tr>\n",
       "      <th>3</th>\n",
       "      <td>0.573306</td>\n",
       "      <td>0.299102</td>\n",
       "      <td>0.291387</td>\n",
       "      <td>0.479468</td>\n",
       "      <td>0.860298</td>\n",
       "      <td>0.528121</td>\n",
       "      <td>0.637177</td>\n",
       "      <td>0.628159</td>\n",
       "    </tr>\n",
       "    <tr>\n",
       "      <th>4</th>\n",
       "      <td>0.588354</td>\n",
       "      <td>0.558747</td>\n",
       "      <td>0.360682</td>\n",
       "      <td>0.449735</td>\n",
       "      <td>0.757956</td>\n",
       "      <td>0.763657</td>\n",
       "      <td>0.731141</td>\n",
       "      <td>0.537086</td>\n",
       "    </tr>\n",
       "  </tbody>\n",
       "</table>\n",
       "</div>"
      ],
      "text/plain": [
       "       m_10      m_11       m_4       m_5       m_6       m_7       m_8  \\\n",
       "0  0.389966  0.111933  0.455665  0.813514  0.846371  0.841692  0.778846   \n",
       "1  0.686797 -0.009949  0.189241  0.372506  0.419155  0.665970  0.682539   \n",
       "2  0.538462  0.574201  0.183650  0.313747  0.671279  0.738791  0.714177   \n",
       "3  0.573306  0.299102  0.291387  0.479468  0.860298  0.528121  0.637177   \n",
       "4  0.588354  0.558747  0.360682  0.449735  0.757956  0.763657  0.731141   \n",
       "\n",
       "        m_9  \n",
       "0  0.710468  \n",
       "1  0.709550  \n",
       "2  0.587363  \n",
       "3  0.628159  \n",
       "4  0.537086  "
      ]
     },
     "execution_count": 29,
     "metadata": {},
     "output_type": "execute_result"
    }
   ],
   "source": [
    "X_final.head()"
   ]
  },
  {
   "cell_type": "code",
   "execution_count": 30,
   "id": "3e4b4954",
   "metadata": {},
   "outputs": [],
   "source": [
    "pred = model_RF.predict(X_final)\n",
    "\n",
    "#pred = pd.DataFrame({id_col: ind_col, \"prediction\": pred})\n",
    "#pred.head()"
   ]
  },
  {
   "cell_type": "code",
   "execution_count": 31,
   "id": "99088b9d",
   "metadata": {},
   "outputs": [
    {
     "name": "stdout",
     "output_type": "stream",
     "text": [
      "Accuracy score: 87.1%\n"
     ]
    }
   ],
   "source": [
    "print(\"Accuracy score: %.1f%%\" % (100 * accuracy_score(valid_df['state'], pred)))"
   ]
  },
  {
   "cell_type": "code",
   "execution_count": null,
   "id": "da5eb35c",
   "metadata": {},
   "outputs": [],
   "source": []
  }
 ],
 "metadata": {
  "kernelspec": {
   "display_name": "Python 3 (ipykernel)",
   "language": "python",
   "name": "python3"
  },
  "language_info": {
   "codemirror_mode": {
    "name": "ipython",
    "version": 3
   },
   "file_extension": ".py",
   "mimetype": "text/x-python",
   "name": "python",
   "nbconvert_exporter": "python",
   "pygments_lexer": "ipython3",
   "version": "3.10.9"
  }
 },
 "nbformat": 4,
 "nbformat_minor": 5
}
