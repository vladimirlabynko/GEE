{
 "cells": [
  {
   "cell_type": "code",
   "execution_count": 2,
   "metadata": {},
   "outputs": [
    {
     "data": {
      "text/html": [
       "<p>To authorize access needed by Earth Engine, open the following\n",
       "        URL in a web browser and follow the instructions:</p>\n",
       "        <p><a href=https://code.earthengine.google.com/client-auth?scopes=https%3A//www.googleapis.com/auth/earthengine%20https%3A//www.googleapis.com/auth/devstorage.full_control&request_id=PVOT4YfHzRuq2iySkjdSviJpcfhmUqNdXZDETHjULv4&tc=Ia9n8R50QsdYzRP7NwD2pVg7TpSSNSsT9egLp_VfE6E&cc=9luMb_KWtT5xN5mn22ONwiJO3N4eq2OFcna_A-7CP2c>https://code.earthengine.google.com/client-auth?scopes=https%3A//www.googleapis.com/auth/earthengine%20https%3A//www.googleapis.com/auth/devstorage.full_control&request_id=PVOT4YfHzRuq2iySkjdSviJpcfhmUqNdXZDETHjULv4&tc=Ia9n8R50QsdYzRP7NwD2pVg7TpSSNSsT9egLp_VfE6E&cc=9luMb_KWtT5xN5mn22ONwiJO3N4eq2OFcna_A-7CP2c</a></p>\n",
       "        <p>The authorization workflow will generate a code, which you should paste in the box below.</p>\n",
       "        "
      ],
      "text/plain": [
       "<IPython.core.display.HTML object>"
      ]
     },
     "metadata": {},
     "output_type": "display_data"
    },
    {
     "name": "stdout",
     "output_type": "stream",
     "text": [
      "\n",
      "Successfully saved authorization token.\n"
     ]
    }
   ],
   "source": [
    "import ee\n",
    "ee.Authenticate()\n",
    "ee.Initialize()"
   ]
  },
  {
   "cell_type": "code",
   "execution_count": null,
   "metadata": {},
   "outputs": [],
   "source": [
    "geoJSON = {\n",
    "  \"type\": \"FeatureCollection\",\n",
    "  \"features\": [\n",
    "    {\n",
    "      \"type\": \"Feature\",\n",
    "      \"properties\": {},\n",
    "      \"geometry\": {\n",
    "        \"type\": \"Polygon\",\n",
    "        \"coordinates\": [\n",
    "          [\n",
    "            [\n",
    "              8.473892211914062,\n",
    "              49.98081240937428\n",
    "            ],\n",
    "            [\n",
    "              8.658599853515625,\n",
    "              49.98081240937428\n",
    "            ],\n",
    "            [\n",
    "              8.658599853515625,\n",
    "              50.06066538593667\n",
    "            ],\n",
    "            [\n",
    "              8.473892211914062,\n",
    "              50.06066538593667\n",
    "            ],\n",
    "            [\n",
    "              8.473892211914062,\n",
    "              49.98081240937428\n",
    "            ]\n",
    "          ]\n",
    "        ]\n",
    "      }\n",
    "    }\n",
    "  ]\n",
    "}"
   ]
  },
  {
   "cell_type": "code",
   "execution_count": null,
   "metadata": {},
   "outputs": [],
   "source": [
    "coords = geoJSON['features'][0]['geometry']['coordinates']\n",
    "aoi = ee.Geometry.Polygon(coords)"
   ]
  },
  {
   "cell_type": "code",
   "execution_count": null,
   "metadata": {},
   "outputs": [],
   "source": [
    "27.129564922715716,54.55896956167419,\n",
    "27.14295451011806,54.55896956167419,\n",
    "27.14295451011806,54.566932014707845,\n",
    "27.129564922715716,54.566932014707845,\n",
    "27.129564922715716,54.55896956167419\n",
    "\n",
    "\n",
    "\n",
    "\n",
    "26.992805034442117,54.60416673414815,\n",
    "27.011086971087625,54.60416673414815,\n",
    "27.011086971087625,54.61714028506184,\n",
    "26.992805034442117,54.61714028506184,\n",
    "26.992805034442117,54.60416673414815"
   ]
  },
  {
   "cell_type": "code",
   "execution_count": null,
   "metadata": {},
   "outputs": [],
   "source": [
    "coords = geoJSON['features'][0]['geometry']['coordinates']\n",
    "aoi = ee.Geometry.Polygon(coords)"
   ]
  },
  {
   "cell_type": "code",
   "execution_count": 28,
   "metadata": {},
   "outputs": [
    {
     "name": "stdout",
     "output_type": "stream",
     "text": [
      "7\n"
     ]
    }
   ],
   "source": [
    "import pandas as pd\n",
    "from dateutil.relativedelta import relativedelta\n",
    "# Any region of the world\n",
    "polygon = ee.Geometry.Polygon([26.992805034442117,54.60416673414815,\n",
    "27.011086971087625,54.60416673414815,\n",
    "27.011086971087625,54.61714028506184,\n",
    "26.992805034442117,54.61714028506184,\n",
    "26.992805034442117,54.60416673414815\n",
    "])\n",
    "startDate = '2022-04-01'\n",
    "endDate = '2022-11-30'\n",
    "\n",
    "modisNDVI = ee.ImageCollection('MODIS/MOD09GA_006_NDVI').select('NDVI').filterDate(startDate, endDate)\n",
    "# Select the bands for NDVI calculation\n",
    "\n",
    "\n",
    "start_date = pd.to_datetime(startDate)\n",
    "end_date = pd.to_datetime(endDate)\n",
    "\n",
    "# Calculate the number of months between the two dates\n",
    "num_months = relativedelta(end_date, start_date).months + (relativedelta(end_date, start_date).years * 12)\n",
    "\n",
    "print(num_months)\n",
    "    \n",
    "def custom_fun(n):\n",
    "    date = ee.Date(startDate).advance(n,'month')\n",
    "    m = date.get(\"month\")\n",
    "    y = date.get(\"year\")\n",
    "    dic = ee.Dictionary({\n",
    "        'Date':date.format('yyyy-MM')\n",
    "    })\n",
    "    \n",
    "    tempNDVI = (modisNDVI.filter(ee.Filter.calendarRange(y, y, 'year'))\n",
    "                .filter(ee.Filter.calendarRange(m, m, 'month'))\n",
    "                .mean()\n",
    "                .reduceRegion(\n",
    "                    reducer = ee.Reducer.mean(),\n",
    "                    geometry = polygon,\n",
    "                    scale = 250))\n",
    "\n",
    "    return dic.combine(tempNDVI)\n",
    "\n",
    "modis_YrMo = ee.List.sequence(0, num_months).map(custom_fun)\n",
    "\n",
    "dataframe = pd.DataFrame(modis_YrMo.getInfo())"
   ]
  },
  {
   "cell_type": "code",
   "execution_count": 29,
   "metadata": {},
   "outputs": [
    {
     "data": {
      "text/html": [
       "<div>\n",
       "<style scoped>\n",
       "    .dataframe tbody tr th:only-of-type {\n",
       "        vertical-align: middle;\n",
       "    }\n",
       "\n",
       "    .dataframe tbody tr th {\n",
       "        vertical-align: top;\n",
       "    }\n",
       "\n",
       "    .dataframe thead th {\n",
       "        text-align: right;\n",
       "    }\n",
       "</style>\n",
       "<table border=\"1\" class=\"dataframe\">\n",
       "  <thead>\n",
       "    <tr style=\"text-align: right;\">\n",
       "      <th></th>\n",
       "      <th>Date</th>\n",
       "      <th>NDVI</th>\n",
       "    </tr>\n",
       "  </thead>\n",
       "  <tbody>\n",
       "    <tr>\n",
       "      <th>0</th>\n",
       "      <td>2022-04</td>\n",
       "      <td>0.260003</td>\n",
       "    </tr>\n",
       "    <tr>\n",
       "      <th>1</th>\n",
       "      <td>2022-05</td>\n",
       "      <td>0.295145</td>\n",
       "    </tr>\n",
       "    <tr>\n",
       "      <th>2</th>\n",
       "      <td>2022-06</td>\n",
       "      <td>0.480019</td>\n",
       "    </tr>\n",
       "    <tr>\n",
       "      <th>3</th>\n",
       "      <td>2022-07</td>\n",
       "      <td>0.343241</td>\n",
       "    </tr>\n",
       "    <tr>\n",
       "      <th>4</th>\n",
       "      <td>2022-08</td>\n",
       "      <td>0.558420</td>\n",
       "    </tr>\n",
       "    <tr>\n",
       "      <th>5</th>\n",
       "      <td>2022-09</td>\n",
       "      <td>0.245553</td>\n",
       "    </tr>\n",
       "    <tr>\n",
       "      <th>6</th>\n",
       "      <td>2022-10</td>\n",
       "      <td>0.164912</td>\n",
       "    </tr>\n",
       "  </tbody>\n",
       "</table>\n",
       "</div>"
      ],
      "text/plain": [
       "      Date      NDVI\n",
       "0  2022-04  0.260003\n",
       "1  2022-05  0.295145\n",
       "2  2022-06  0.480019\n",
       "3  2022-07  0.343241\n",
       "4  2022-08  0.558420\n",
       "5  2022-09  0.245553\n",
       "6  2022-10  0.164912"
      ]
     },
     "execution_count": 29,
     "metadata": {},
     "output_type": "execute_result"
    }
   ],
   "source": [
    "dataframe.head(num_months)"
   ]
  },
  {
   "cell_type": "code",
   "execution_count": 25,
   "metadata": {},
   "outputs": [
    {
     "name": "stdout",
     "output_type": "stream",
     "text": [
      "Changes not detected\n"
     ]
    }
   ],
   "source": [
    "dataframe['Date'] = pd.to_datetime(dataframe['Date'])\n",
    "\n",
    "dataframe = dataframe[(dataframe['Date'].dt.month >= 3) & (dataframe['Date'].dt.month <= 6) | (dataframe['Date'].dt.month >= 9) & (dataframe['Date'].dt.month <= 11)]\n",
    "\n",
    "march_to_may = (dataframe['Date'].dt.month >= 3) & (dataframe['Date'].dt.month <= 5)\n",
    "sept_to_nov = (dataframe['Date'].dt.month >= 9) & (dataframe['Date'].dt.month <= 11)\n",
    "\n",
    "if (dataframe[march_to_may]['NDVI'].min() < 0.16) & (dataframe[sept_to_nov]['NDVI'].min() < 0.16):\n",
    "    print(\"Changes detected\")\n",
    "else:\n",
    "    print(\"Changes not detected\")"
   ]
  }
 ],
 "metadata": {
  "interpreter": {
   "hash": "b90638fe8e83d1687a3e8eb138f3ce987b7b90b7cc929005e2d24ebd6bf7d621"
  },
  "kernelspec": {
   "display_name": "Python 3 (ipykernel)",
   "language": "python",
   "name": "python3"
  },
  "language_info": {
   "codemirror_mode": {
    "name": "ipython",
    "version": 3
   },
   "file_extension": ".py",
   "mimetype": "text/x-python",
   "name": "python",
   "nbconvert_exporter": "python",
   "pygments_lexer": "ipython3",
   "version": "3.9.12"
  }
 },
 "nbformat": 4,
 "nbformat_minor": 2
}
