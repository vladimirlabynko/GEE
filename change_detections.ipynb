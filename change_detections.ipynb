{
 "cells": [
  {
   "cell_type": "code",
   "execution_count": 1,
   "metadata": {},
   "outputs": [
    {
     "data": {
      "text/html": [
       "<p>To authorize access needed by Earth Engine, open the following\n",
       "        URL in a web browser and follow the instructions:</p>\n",
       "        <p><a href=https://code.earthengine.google.com/client-auth?scopes=https%3A//www.googleapis.com/auth/earthengine%20https%3A//www.googleapis.com/auth/devstorage.full_control&request_id=e-oJqTymtYkhDsID_WwrZ9LNS-3K3mp1xYfa8_hMTBA&tc=bTsOJDz4R7cFvdkq88xczyyWhbgzWQ-s7KttRhC_6y4&cc=O-ukPiD15bKvyIU7B0hz634xCXfL7ERbiO_8pBWVsAw>https://code.earthengine.google.com/client-auth?scopes=https%3A//www.googleapis.com/auth/earthengine%20https%3A//www.googleapis.com/auth/devstorage.full_control&request_id=e-oJqTymtYkhDsID_WwrZ9LNS-3K3mp1xYfa8_hMTBA&tc=bTsOJDz4R7cFvdkq88xczyyWhbgzWQ-s7KttRhC_6y4&cc=O-ukPiD15bKvyIU7B0hz634xCXfL7ERbiO_8pBWVsAw</a></p>\n",
       "        <p>The authorization workflow will generate a code, which you should paste in the box below.</p>\n",
       "        "
      ],
      "text/plain": [
       "<IPython.core.display.HTML object>"
      ]
     },
     "metadata": {},
     "output_type": "display_data"
    },
    {
     "name": "stdout",
     "output_type": "stream",
     "text": [
      "Enter verification code: 4/1AWtgzh7AU-a1Sk6d6El7_a-0wYxk8VwKLKololbhBAz3VwFZrtgxhKj8COY\n",
      "\n",
      "Successfully saved authorization token.\n"
     ]
    }
   ],
   "source": [
    "import ee\n",
    "ee.Authenticate()\n",
    "ee.Initialize()"
   ]
  },
  {
   "cell_type": "code",
   "execution_count": 2,
   "metadata": {},
   "outputs": [],
   "source": [
    "import pandas as pd\n",
    "from statsmodels.tsa.stattools import adfuller"
   ]
  },
  {
   "cell_type": "code",
   "execution_count": null,
   "metadata": {},
   "outputs": [],
   "source": [
    "geoJSON = {\n",
    "  \"type\": \"FeatureCollection\",\n",
    "  \"features\": [\n",
    "    {\n",
    "      \"type\": \"Feature\",\n",
    "      \"properties\": {},\n",
    "      \"geometry\": {\n",
    "        \"type\": \"Polygon\",\n",
    "        \"coordinates\": [\n",
    "          [\n",
    "            [\n",
    "              8.473892211914062,\n",
    "              49.98081240937428\n",
    "            ],\n",
    "            [\n",
    "              8.658599853515625,\n",
    "              49.98081240937428\n",
    "            ],\n",
    "            [\n",
    "              8.658599853515625,\n",
    "              50.06066538593667\n",
    "            ],\n",
    "            [\n",
    "              8.473892211914062,\n",
    "              50.06066538593667\n",
    "            ],\n",
    "            [\n",
    "              8.473892211914062,\n",
    "              49.98081240937428\n",
    "            ]\n",
    "          ]\n",
    "        ]\n",
    "      }\n",
    "    }\n",
    "  ]\n",
    "}"
   ]
  },
  {
   "cell_type": "code",
   "execution_count": null,
   "metadata": {},
   "outputs": [],
   "source": [
    "coords = geoJSON ['features'][0]['geometry']['coordinates']\n",
    "aoi = ee.Geometry.Polygon(coords)"
   ]
  },
  {
   "cell_type": "markdown",
   "metadata": {},
   "source": [
    "#поле\n",
    "28.327897562397894,55.039428955902046,\n",
    "28.330060162226996,55.038648634224636,\n",
    "28.330800456547973,55.03798868780123,\n",
    "28.33114380399439,55.03814025695209,\n",
    "28.330813815502186,55.038563883624256,\n",
    "28.33395752670043,55.04182797430781,\n",
    "28.330871760040484,55.04259937649256,\n",
    "28.327897562397894,55.039428955902046\n",
    "\n",
    "\n",
    "\n",
    "#лес\n",
    "28.36867608564167,55.022582459441814,\n",
    "28.36874294658985,55.02206521058777,\n",
    "28.37454865454415,55.022595858779546,\n",
    "28.374267725132615,55.02293029316314,\n",
    "28.373870879521395,55.0232602426756,\n",
    "28.373870974775777,55.02355012908304,\n",
    "28.373719364548023,55.02405400731252,\n",
    "28.373902022182207,55.024437455463755,\n",
    "28.374892055329326,55.02461580420657,\n",
    "28.374562011980984,55.02507958796338,\n",
    "28.374419281096788,55.02528022215966,\n",
    "28.375007949154853,55.02546751596582,\n",
    "28.37703238535213,55.025886691095124,\n",
    "28.376885185039708,55.02594464914051,\n",
    "28.37664442489605,55.0261988339464,\n",
    "28.37680052237374,55.02664921978632,\n",
    "28.37665341404765,55.02686764479318,\n",
    "28.376006759168504,55.02698810213807,\n",
    "28.37531566170606,55.02697472927314,\n",
    "28.37506145211032,55.02669827258685,\n",
    "28.374575496790893,55.02688998306344,\n",
    "28.374178574655723,55.02687214245029,\n",
    "28.37390654361895,55.026372757851,\n",
    "28.37359895534249,55.026216652429945,\n",
    "28.373665700642125,55.02593572399014,\n",
    "28.373233325777882,55.025708315786225,\n",
    "28.372617852409682,55.02558790304464,\n",
    "28.372577745453444,55.02528920026555,\n",
    "28.372805243675966,55.02497702445131,\n",
    "28.37239052438747,55.02469164662594,\n",
    "28.37136041079541,55.02518662221359,\n",
    "28.37086545748986,55.024861136968426,\n",
    "28.36998250357148,55.02419220135768,\n",
    "28.369108621469234,55.02339401848582,\n",
    "28.36867608564167,55.0"
   ]
  },
  {
   "cell_type": "code",
   "execution_count": 3,
   "metadata": {},
   "outputs": [],
   "source": [
    "def maskS2clouds(image):\n",
    "    qa = image.select('QA60')\n",
    "    cloudBitMask = 1 << 10\n",
    "    cirrusBitMask = 1 << 11\n",
    "    mask = qa.bitwiseAnd(cloudBitMask).eq(0) \\\n",
    "      .And(qa.bitwiseAnd(cirrusBitMask).eq(0))    \n",
    "    return image.updateMask(mask)"
   ]
  },
  {
   "cell_type": "code",
   "execution_count": 4,
   "metadata": {},
   "outputs": [],
   "source": [
    "sent2NDVI= ee.ImageCollection(\"COPERNICUS/S2_SR\") \\\n",
    "            .map(maskS2clouds)\\\n",
    "            .map(lambda im: im.normalizedDifference(['B8','B4']).rename('NDVI').set('system:time_start', im.get('system:time_start')))"
   ]
  },
  {
   "cell_type": "code",
   "execution_count": 5,
   "metadata": {},
   "outputs": [],
   "source": [
    "startDate = ee.Date('2022-03-01')\n",
    "endDate = ee.Date('2022-11-30')\n",
    "num_months = endDate.difference(startDate, 'month').int()"
   ]
  },
  {
   "cell_type": "code",
   "execution_count": 6,
   "metadata": {},
   "outputs": [],
   "source": [
    "#лес\n",
    "polygon_fo = ee.Geometry.Polygon([ 28.36867608564167,55.022582459441814, 28.36874294658985,55.02206521058777, 28.37454865454415,55.022595858779546, 28.374267725132615,55.02293029316314, 28.373870879521395,55.0232602426756, 28.373870974775777,55.02355012908304, 28.373719364548023,55.02405400731252, 28.373902022182207,55.024437455463755, 28.374892055329326,55.02461580420657, 28.374562011980984,55.02507958796338, 28.374419281096788,55.02528022215966, 28.375007949154853,55.02546751596582, 28.37703238535213,55.025886691095124, 28.376885185039708,55.02594464914051, 28.37664442489605,55.0261988339464, 28.37680052237374,55.02664921978632, 28.37665341404765,55.02686764479318, 28.376006759168504,55.02698810213807, 28.37531566170606,55.02697472927314, 28.37506145211032,55.02669827258685, 28.374575496790893,55.02688998306344, 28.374178574655723,55.02687214245029, 28.37390654361895,55.026372757851, 28.37359895534249,55.026216652429945, 28.373665700642125,55.02593572399014, 28.373233325777882,55.025708315786225, 28.372617852409682,55.02558790304464, 28.372577745453444,55.02528920026555, 28.372805243675966,55.02497702445131, 28.37239052438747,55.02469164662594, 28.37136041079541,55.02518662221359, 28.37086545748986,55.024861136968426, 28.36998250357148,55.02419220135768, 28.369108621469234,55.02339401848582, 28.36867608564167,55.0])"
   ]
  },
  {
   "cell_type": "code",
   "execution_count": 7,
   "metadata": {},
   "outputs": [],
   "source": [
    "#поле\n",
    "polygon_fi = ee.Geometry.Polygon([28.327897562397894,55.039428955902046, 28.330060162226996,55.038648634224636, 28.330800456547973,55.03798868780123, 28.33114380399439,55.03814025695209, 28.330813815502186,55.038563883624256, 28.33395752670043,55.04182797430781, 28.330871760040484,55.04259937649256, 28.327897562397894,55.039428955902046])"
   ]
  },
  {
   "cell_type": "code",
   "execution_count": 8,
   "metadata": {},
   "outputs": [],
   "source": [
    "def custom_fun(n, polygon):\n",
    "    date = ee.Date(startDate).advance(n,'month')\n",
    "    m = date.get(\"month\")\n",
    "    y = date.get(\"year\")\n",
    "    dic = ee.Dictionary({\n",
    "        'Date':date.format('yyyy-MM')\n",
    "    })    \n",
    "    tempNDVI = (sent2NDVI\n",
    "                .filterBounds(polygon)  \n",
    "                .filter(ee.Filter.calendarRange(y, y, 'year'))\n",
    "                .filter(ee.Filter.calendarRange(m, m, 'month'))                \n",
    "                .mean()\n",
    "                .reduceRegion(\n",
    "                    reducer = ee.Reducer.mean(),\n",
    "                    geometry = polygon,\n",
    "                    scale = 20))\n",
    "    return dic.combine(tempNDVI) "
   ]
  },
  {
   "cell_type": "code",
   "execution_count": 9,
   "metadata": {},
   "outputs": [],
   "source": [
    "polygon1_s2_YrMo = ee.List.sequence(0, num_months).map(lambda x: custom_fun(x, polygon_fo)).getInfo()\n",
    "polygon2_s2_YrMo = ee.List.sequence(0, num_months).map(lambda x: custom_fun(x, polygon_fi)).getInfo()"
   ]
  },
  {
   "cell_type": "code",
   "execution_count": 10,
   "metadata": {},
   "outputs": [],
   "source": [
    "dataframe1 = pd.DataFrame(polygon1_s2_YrMo)\n",
    "dataframe2 = pd.DataFrame(polygon2_s2_YrMo)"
   ]
  },
  {
   "cell_type": "code",
   "execution_count": 11,
   "metadata": {},
   "outputs": [],
   "source": [
    "ndvi_values1=dataframe1[\"NDVI\"]\n",
    "ndvi_values2=dataframe2[\"NDVI\"]"
   ]
  },
  {
   "cell_type": "code",
   "execution_count": 12,
   "metadata": {},
   "outputs": [
    {
     "name": "stdout",
     "output_type": "stream",
     "text": [
      "p-value: 0.000177\n",
      "Нет значительных изменений в растительном покрове.\n"
     ]
    }
   ],
   "source": [
    "result = adfuller(ndvi_values1)\n",
    "print('p-value: %f' % result[1])\n",
    "if result[1] >0.05:\n",
    "    print(\"Есть значительные изменения в растительном покрове.\")\n",
    "else : \n",
    "    print(\"Нет значительных изменений в растительном покрове.\")"
   ]
  },
  {
   "cell_type": "code",
   "execution_count": 13,
   "metadata": {},
   "outputs": [
    {
     "name": "stdout",
     "output_type": "stream",
     "text": [
      "p-value: 0.472109\n",
      "Есть значительные изменения в растительном покрове.\n"
     ]
    }
   ],
   "source": [
    "result = adfuller(ndvi_values2)\n",
    "print('p-value: %f' % result[1])\n",
    "if result[1] >0.05:\n",
    "    print(\"Есть значительные изменения в растительном покрове.\")\n",
    "else : \n",
    "    print(\"Нет значительных изменений в растительном покрове.\")"
   ]
  },
  {
   "cell_type": "code",
   "execution_count": null,
   "metadata": {},
   "outputs": [],
   "source": []
  }
 ],
 "metadata": {
  "interpreter": {
   "hash": "b90638fe8e83d1687a3e8eb138f3ce987b7b90b7cc929005e2d24ebd6bf7d621"
  },
  "kernelspec": {
   "display_name": "Python 3 (ipykernel)",
   "language": "python",
   "name": "python3"
  },
  "language_info": {
   "codemirror_mode": {
    "name": "ipython",
    "version": 3
   },
   "file_extension": ".py",
   "mimetype": "text/x-python",
   "name": "python",
   "nbconvert_exporter": "python",
   "pygments_lexer": "ipython3",
   "version": "3.10.9"
  }
 },
 "nbformat": 4,
 "nbformat_minor": 2
}
